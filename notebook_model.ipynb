{
 "cells": [
  {
   "cell_type": "markdown",
   "id": "97bb69d5",
   "metadata": {},
   "source": [
    "# import \n"
   ]
  },
  {
   "cell_type": "code",
   "execution_count": 405,
   "id": "5a0a6156",
   "metadata": {},
   "outputs": [],
   "source": [
    "import numpy as np\n",
    "import pandas as pd\n",
    "\n",
    "from sklearn.linear_model import LinearRegression\n",
    "from sklearn.model_selection import train_test_split\n",
    "from sklearn.preprocessing import StandardScaler,MinMaxScaler\n",
    "from sklearn import model_selection\n",
    "import statsmodels.api as sm\n",
    "from sklearn.pipeline import make_pipeline\n",
    "from sklearn.compose import make_column_transformer\n",
    "from sklearn.preprocessing import OrdinalEncoder,OneHotEncoder\n",
    "from sklearn.model_selection import cross_val_score,cross_validate\n",
    "import matplotlib.pyplot as plt"
   ]
  },
  {
   "cell_type": "code",
   "execution_count": 406,
   "id": "dd2515df",
   "metadata": {},
   "outputs": [],
   "source": [
    "df_clean = pd.read_csv ('dataframeclean.csv')"
   ]
  },
  {
   "cell_type": "code",
   "execution_count": 407,
   "id": "e1dd1322",
   "metadata": {},
   "outputs": [
    {
     "data": {
      "text/html": [
       "<div>\n",
       "<style scoped>\n",
       "    .dataframe tbody tr th:only-of-type {\n",
       "        vertical-align: middle;\n",
       "    }\n",
       "\n",
       "    .dataframe tbody tr th {\n",
       "        vertical-align: top;\n",
       "    }\n",
       "\n",
       "    .dataframe thead th {\n",
       "        text-align: right;\n",
       "    }\n",
       "</style>\n",
       "<table border=\"1\" class=\"dataframe\">\n",
       "  <thead>\n",
       "    <tr style=\"text-align: right;\">\n",
       "      <th></th>\n",
       "      <th>longitude</th>\n",
       "      <th>latitude</th>\n",
       "      <th>housing_median_age</th>\n",
       "      <th>total_rooms</th>\n",
       "      <th>total_bedrooms</th>\n",
       "      <th>population</th>\n",
       "      <th>households</th>\n",
       "      <th>median_income</th>\n",
       "      <th>median_house_value</th>\n",
       "      <th>ocean_proximity</th>\n",
       "      <th>bins_latitude</th>\n",
       "      <th>bins_housing_median_age</th>\n",
       "      <th>bins_total_rooms</th>\n",
       "      <th>bins_total_bedrooms</th>\n",
       "      <th>bins_population</th>\n",
       "      <th>bins_households</th>\n",
       "      <th>bins_median_income</th>\n",
       "    </tr>\n",
       "  </thead>\n",
       "  <tbody>\n",
       "    <tr>\n",
       "      <th>0</th>\n",
       "      <td>-119.84</td>\n",
       "      <td>36.77</td>\n",
       "      <td>6.0</td>\n",
       "      <td>1853.0</td>\n",
       "      <td>473.0</td>\n",
       "      <td>1397.0</td>\n",
       "      <td>417.0</td>\n",
       "      <td>1.4817</td>\n",
       "      <td>72000.0</td>\n",
       "      <td>INLAND</td>\n",
       "      <td>(36.573, 37.917]</td>\n",
       "      <td>(0.949, 8.286]</td>\n",
       "      <td>(-33.314, 5622.286]</td>\n",
       "      <td>(-4.208, 888.857]</td>\n",
       "      <td>(-13.302, 2331.857]</td>\n",
       "      <td>(-3.356, 767.143]</td>\n",
       "      <td>(0.485, 2.571]</td>\n",
       "    </tr>\n",
       "    <tr>\n",
       "      <th>1</th>\n",
       "      <td>-117.80</td>\n",
       "      <td>33.68</td>\n",
       "      <td>8.0</td>\n",
       "      <td>2032.0</td>\n",
       "      <td>349.0</td>\n",
       "      <td>862.0</td>\n",
       "      <td>340.0</td>\n",
       "      <td>6.9133</td>\n",
       "      <td>274100.0</td>\n",
       "      <td>&lt;1H OCEAN</td>\n",
       "      <td>(32.531, 33.884]</td>\n",
       "      <td>(0.949, 8.286]</td>\n",
       "      <td>(-33.314, 5622.286]</td>\n",
       "      <td>(-4.208, 888.857]</td>\n",
       "      <td>(-13.302, 2331.857]</td>\n",
       "      <td>(-3.356, 767.143]</td>\n",
       "      <td>(6.714, 8.786]</td>\n",
       "    </tr>\n",
       "    <tr>\n",
       "      <th>2</th>\n",
       "      <td>-120.19</td>\n",
       "      <td>36.60</td>\n",
       "      <td>25.0</td>\n",
       "      <td>875.0</td>\n",
       "      <td>214.0</td>\n",
       "      <td>931.0</td>\n",
       "      <td>214.0</td>\n",
       "      <td>1.5536</td>\n",
       "      <td>58300.0</td>\n",
       "      <td>INLAND</td>\n",
       "      <td>(36.573, 37.917]</td>\n",
       "      <td>(22.857, 30.143]</td>\n",
       "      <td>(-33.314, 5622.286]</td>\n",
       "      <td>(-4.208, 888.857]</td>\n",
       "      <td>(-13.302, 2331.857]</td>\n",
       "      <td>(-3.356, 767.143]</td>\n",
       "      <td>(0.485, 2.571]</td>\n",
       "    </tr>\n",
       "    <tr>\n",
       "      <th>3</th>\n",
       "      <td>-118.32</td>\n",
       "      <td>34.10</td>\n",
       "      <td>31.0</td>\n",
       "      <td>622.0</td>\n",
       "      <td>229.0</td>\n",
       "      <td>597.0</td>\n",
       "      <td>227.0</td>\n",
       "      <td>1.5284</td>\n",
       "      <td>200000.0</td>\n",
       "      <td>&lt;1H OCEAN</td>\n",
       "      <td>(33.884, 35.229]</td>\n",
       "      <td>(30.143, 37.429]</td>\n",
       "      <td>(-33.314, 5622.286]</td>\n",
       "      <td>(-4.208, 888.857]</td>\n",
       "      <td>(-13.302, 2331.857]</td>\n",
       "      <td>(-3.356, 767.143]</td>\n",
       "      <td>(0.485, 2.571]</td>\n",
       "    </tr>\n",
       "    <tr>\n",
       "      <th>4</th>\n",
       "      <td>-121.23</td>\n",
       "      <td>37.79</td>\n",
       "      <td>21.0</td>\n",
       "      <td>1922.0</td>\n",
       "      <td>373.0</td>\n",
       "      <td>1130.0</td>\n",
       "      <td>372.0</td>\n",
       "      <td>4.0815</td>\n",
       "      <td>117900.0</td>\n",
       "      <td>INLAND</td>\n",
       "      <td>(36.573, 37.917]</td>\n",
       "      <td>(15.571, 22.857]</td>\n",
       "      <td>(-33.314, 5622.286]</td>\n",
       "      <td>(-4.208, 888.857]</td>\n",
       "      <td>(-13.302, 2331.857]</td>\n",
       "      <td>(-3.356, 767.143]</td>\n",
       "      <td>(2.571, 4.643]</td>\n",
       "    </tr>\n",
       "    <tr>\n",
       "      <th>...</th>\n",
       "      <td>...</td>\n",
       "      <td>...</td>\n",
       "      <td>...</td>\n",
       "      <td>...</td>\n",
       "      <td>...</td>\n",
       "      <td>...</td>\n",
       "      <td>...</td>\n",
       "      <td>...</td>\n",
       "      <td>...</td>\n",
       "      <td>...</td>\n",
       "      <td>...</td>\n",
       "      <td>...</td>\n",
       "      <td>...</td>\n",
       "      <td>...</td>\n",
       "      <td>...</td>\n",
       "      <td>...</td>\n",
       "      <td>...</td>\n",
       "    </tr>\n",
       "    <tr>\n",
       "      <th>16505</th>\n",
       "      <td>-121.90</td>\n",
       "      <td>39.59</td>\n",
       "      <td>20.0</td>\n",
       "      <td>1465.0</td>\n",
       "      <td>278.0</td>\n",
       "      <td>745.0</td>\n",
       "      <td>250.0</td>\n",
       "      <td>3.0625</td>\n",
       "      <td>93800.0</td>\n",
       "      <td>INLAND</td>\n",
       "      <td>(39.261, 40.606]</td>\n",
       "      <td>(15.571, 22.857]</td>\n",
       "      <td>(-33.314, 5622.286]</td>\n",
       "      <td>(-4.208, 888.857]</td>\n",
       "      <td>(-13.302, 2331.857]</td>\n",
       "      <td>(-3.356, 767.143]</td>\n",
       "      <td>(2.571, 4.643]</td>\n",
       "    </tr>\n",
       "    <tr>\n",
       "      <th>16506</th>\n",
       "      <td>-122.25</td>\n",
       "      <td>38.11</td>\n",
       "      <td>49.0</td>\n",
       "      <td>2365.0</td>\n",
       "      <td>504.0</td>\n",
       "      <td>1131.0</td>\n",
       "      <td>458.0</td>\n",
       "      <td>2.6133</td>\n",
       "      <td>103100.0</td>\n",
       "      <td>NEAR BAY</td>\n",
       "      <td>(37.917, 39.261]</td>\n",
       "      <td>(44.714, 52.0]</td>\n",
       "      <td>(-33.314, 5622.286]</td>\n",
       "      <td>(-4.208, 888.857]</td>\n",
       "      <td>(-13.302, 2331.857]</td>\n",
       "      <td>(-3.356, 767.143]</td>\n",
       "      <td>(2.571, 4.643]</td>\n",
       "    </tr>\n",
       "    <tr>\n",
       "      <th>16507</th>\n",
       "      <td>-121.22</td>\n",
       "      <td>38.92</td>\n",
       "      <td>19.0</td>\n",
       "      <td>2531.0</td>\n",
       "      <td>461.0</td>\n",
       "      <td>1206.0</td>\n",
       "      <td>429.0</td>\n",
       "      <td>4.4958</td>\n",
       "      <td>192600.0</td>\n",
       "      <td>INLAND</td>\n",
       "      <td>(37.917, 39.261]</td>\n",
       "      <td>(15.571, 22.857]</td>\n",
       "      <td>(-33.314, 5622.286]</td>\n",
       "      <td>(-4.208, 888.857]</td>\n",
       "      <td>(-13.302, 2331.857]</td>\n",
       "      <td>(-3.356, 767.143]</td>\n",
       "      <td>(2.571, 4.643]</td>\n",
       "    </tr>\n",
       "    <tr>\n",
       "      <th>16508</th>\n",
       "      <td>-118.14</td>\n",
       "      <td>34.16</td>\n",
       "      <td>39.0</td>\n",
       "      <td>2776.0</td>\n",
       "      <td>840.0</td>\n",
       "      <td>2546.0</td>\n",
       "      <td>773.0</td>\n",
       "      <td>2.5750</td>\n",
       "      <td>153500.0</td>\n",
       "      <td>&lt;1H OCEAN</td>\n",
       "      <td>(33.884, 35.229]</td>\n",
       "      <td>(37.429, 44.714]</td>\n",
       "      <td>(-33.314, 5622.286]</td>\n",
       "      <td>(-4.208, 888.857]</td>\n",
       "      <td>(2331.857, 4660.714]</td>\n",
       "      <td>(767.143, 1532.286]</td>\n",
       "      <td>(2.571, 4.643]</td>\n",
       "    </tr>\n",
       "    <tr>\n",
       "      <th>16509</th>\n",
       "      <td>-124.13</td>\n",
       "      <td>40.80</td>\n",
       "      <td>31.0</td>\n",
       "      <td>2152.0</td>\n",
       "      <td>462.0</td>\n",
       "      <td>1259.0</td>\n",
       "      <td>420.0</td>\n",
       "      <td>2.2478</td>\n",
       "      <td>81100.0</td>\n",
       "      <td>NEAR OCEAN</td>\n",
       "      <td>(40.606, 41.95]</td>\n",
       "      <td>(30.143, 37.429]</td>\n",
       "      <td>(-33.314, 5622.286]</td>\n",
       "      <td>(-4.208, 888.857]</td>\n",
       "      <td>(-13.302, 2331.857]</td>\n",
       "      <td>(-3.356, 767.143]</td>\n",
       "      <td>(0.485, 2.571]</td>\n",
       "    </tr>\n",
       "  </tbody>\n",
       "</table>\n",
       "<p>16510 rows × 17 columns</p>\n",
       "</div>"
      ],
      "text/plain": [
       "       longitude  latitude  housing_median_age  total_rooms  total_bedrooms  \\\n",
       "0        -119.84     36.77                 6.0       1853.0           473.0   \n",
       "1        -117.80     33.68                 8.0       2032.0           349.0   \n",
       "2        -120.19     36.60                25.0        875.0           214.0   \n",
       "3        -118.32     34.10                31.0        622.0           229.0   \n",
       "4        -121.23     37.79                21.0       1922.0           373.0   \n",
       "...          ...       ...                 ...          ...             ...   \n",
       "16505    -121.90     39.59                20.0       1465.0           278.0   \n",
       "16506    -122.25     38.11                49.0       2365.0           504.0   \n",
       "16507    -121.22     38.92                19.0       2531.0           461.0   \n",
       "16508    -118.14     34.16                39.0       2776.0           840.0   \n",
       "16509    -124.13     40.80                31.0       2152.0           462.0   \n",
       "\n",
       "       population  households  median_income  median_house_value  \\\n",
       "0          1397.0       417.0         1.4817             72000.0   \n",
       "1           862.0       340.0         6.9133            274100.0   \n",
       "2           931.0       214.0         1.5536             58300.0   \n",
       "3           597.0       227.0         1.5284            200000.0   \n",
       "4          1130.0       372.0         4.0815            117900.0   \n",
       "...           ...         ...            ...                 ...   \n",
       "16505       745.0       250.0         3.0625             93800.0   \n",
       "16506      1131.0       458.0         2.6133            103100.0   \n",
       "16507      1206.0       429.0         4.4958            192600.0   \n",
       "16508      2546.0       773.0         2.5750            153500.0   \n",
       "16509      1259.0       420.0         2.2478             81100.0   \n",
       "\n",
       "      ocean_proximity     bins_latitude bins_housing_median_age  \\\n",
       "0              INLAND  (36.573, 37.917]          (0.949, 8.286]   \n",
       "1           <1H OCEAN  (32.531, 33.884]          (0.949, 8.286]   \n",
       "2              INLAND  (36.573, 37.917]        (22.857, 30.143]   \n",
       "3           <1H OCEAN  (33.884, 35.229]        (30.143, 37.429]   \n",
       "4              INLAND  (36.573, 37.917]        (15.571, 22.857]   \n",
       "...               ...               ...                     ...   \n",
       "16505          INLAND  (39.261, 40.606]        (15.571, 22.857]   \n",
       "16506        NEAR BAY  (37.917, 39.261]          (44.714, 52.0]   \n",
       "16507          INLAND  (37.917, 39.261]        (15.571, 22.857]   \n",
       "16508       <1H OCEAN  (33.884, 35.229]        (37.429, 44.714]   \n",
       "16509      NEAR OCEAN   (40.606, 41.95]        (30.143, 37.429]   \n",
       "\n",
       "          bins_total_rooms bins_total_bedrooms       bins_population  \\\n",
       "0      (-33.314, 5622.286]   (-4.208, 888.857]   (-13.302, 2331.857]   \n",
       "1      (-33.314, 5622.286]   (-4.208, 888.857]   (-13.302, 2331.857]   \n",
       "2      (-33.314, 5622.286]   (-4.208, 888.857]   (-13.302, 2331.857]   \n",
       "3      (-33.314, 5622.286]   (-4.208, 888.857]   (-13.302, 2331.857]   \n",
       "4      (-33.314, 5622.286]   (-4.208, 888.857]   (-13.302, 2331.857]   \n",
       "...                    ...                 ...                   ...   \n",
       "16505  (-33.314, 5622.286]   (-4.208, 888.857]   (-13.302, 2331.857]   \n",
       "16506  (-33.314, 5622.286]   (-4.208, 888.857]   (-13.302, 2331.857]   \n",
       "16507  (-33.314, 5622.286]   (-4.208, 888.857]   (-13.302, 2331.857]   \n",
       "16508  (-33.314, 5622.286]   (-4.208, 888.857]  (2331.857, 4660.714]   \n",
       "16509  (-33.314, 5622.286]   (-4.208, 888.857]   (-13.302, 2331.857]   \n",
       "\n",
       "           bins_households bins_median_income  \n",
       "0        (-3.356, 767.143]     (0.485, 2.571]  \n",
       "1        (-3.356, 767.143]     (6.714, 8.786]  \n",
       "2        (-3.356, 767.143]     (0.485, 2.571]  \n",
       "3        (-3.356, 767.143]     (0.485, 2.571]  \n",
       "4        (-3.356, 767.143]     (2.571, 4.643]  \n",
       "...                    ...                ...  \n",
       "16505    (-3.356, 767.143]     (2.571, 4.643]  \n",
       "16506    (-3.356, 767.143]     (2.571, 4.643]  \n",
       "16507    (-3.356, 767.143]     (2.571, 4.643]  \n",
       "16508  (767.143, 1532.286]     (2.571, 4.643]  \n",
       "16509    (-3.356, 767.143]     (0.485, 2.571]  \n",
       "\n",
       "[16510 rows x 17 columns]"
      ]
     },
     "execution_count": 407,
     "metadata": {},
     "output_type": "execute_result"
    }
   ],
   "source": [
    "df_clean"
   ]
  },
  {
   "cell_type": "markdown",
   "id": "05bbe22f",
   "metadata": {},
   "source": [
    "# Baseline model "
   ]
  },
  {
   "cell_type": "code",
   "execution_count": 408,
   "id": "11142a55",
   "metadata": {},
   "outputs": [],
   "source": [
    "features = [\n",
    " 'longitude',\n",
    " 'latitude',\n",
    " 'housing_median_age',\n",
    " 'total_rooms',\n",
    " 'total_bedrooms',\n",
    " 'population',\n",
    " 'households',\n",
    " 'median_income']"
   ]
  },
  {
   "cell_type": "code",
   "execution_count": 409,
   "id": "35d05ffc",
   "metadata": {},
   "outputs": [
    {
     "data": {
      "text/plain": [
       "0.639149507560891"
      ]
     },
     "execution_count": 409,
     "metadata": {},
     "output_type": "execute_result"
    }
   ],
   "source": [
    "# Choose your feature and your target\n",
    "X = df_clean[features]\n",
    "y = df_clean['median_house_value']\n",
    "\n",
    "# Splitting the data\n",
    "X_train, X_test, y_train, y_test = train_test_split(X, y, test_size=.2, random_state=3)\n",
    "\n",
    "# Choose your model\n",
    "model = LinearRegression()\n",
    "\n",
    "# Fit the model with the train set\n",
    "model.fit(X_train, y_train)\n",
    "\n",
    "# Evaluate the model with the test set\n",
    "baseline_score = model.score(X_test, y_test)\n",
    "baseline_score"
   ]
  },
  {
   "cell_type": "markdown",
   "id": "453e806c",
   "metadata": {},
   "source": [
    "## Cross Validation"
   ]
  },
  {
   "cell_type": "code",
   "execution_count": 410,
   "id": "b592a2b5",
   "metadata": {},
   "outputs": [
    {
     "name": "stdout",
     "output_type": "stream",
     "text": [
      "score [0.65030626 0.6289704  0.6529271  0.63781955 0.62927456]\n",
      "moyenne :0.640 , deviation: :0.010\n"
     ]
    }
   ],
   "source": [
    "scores=model_selection.cross_val_score(model,X ,y ,  cv=5)\n",
    "print(\"score\",scores)\n",
    "print(\"moyenne :%0.03f , deviation: :%0.03f\" % (scores.mean(), scores.std()))"
   ]
  },
  {
   "cell_type": "markdown",
   "id": "34bab32e",
   "metadata": {},
   "source": [
    "# Ittération 2 \n"
   ]
  },
  {
   "cell_type": "code",
   "execution_count": 411,
   "id": "16b7d87b",
   "metadata": {},
   "outputs": [],
   "source": [
    "feature_cols = [\n",
    " 'longitude',\n",
    " 'latitude',\n",
    " 'housing_median_age',\n",
    "#  'total_rooms',\n",
    " 'total_bedrooms',\n",
    " 'population',\n",
    " 'households',\n",
    " 'median_income',\n",
    " 'ocean_proximity']\n",
    "\n",
    "\n",
    "X = df_clean[feature_cols]\n",
    "y = df_clean['median_house_value']"
   ]
  },
  {
   "cell_type": "code",
   "execution_count": 413,
   "id": "5527f488",
   "metadata": {},
   "outputs": [],
   "source": [
    "column_trans = make_column_transformer((OneHotEncoder(), ['ocean_proximity']),\n",
    "                                       \n",
    "                                      remainder='passthrough')"
   ]
  },
  {
   "cell_type": "code",
   "execution_count": 414,
   "id": "4cf4f6a7",
   "metadata": {},
   "outputs": [],
   "source": [
    "linreg = LinearRegression()"
   ]
  },
  {
   "cell_type": "code",
   "execution_count": 415,
   "id": "34311cc3",
   "metadata": {},
   "outputs": [],
   "source": [
    "pipe = make_pipeline(column_trans, linreg)"
   ]
  },
  {
   "cell_type": "code",
   "execution_count": 416,
   "id": "75ded3fb",
   "metadata": {},
   "outputs": [
    {
     "data": {
      "text/html": [
       "<style>#sk-container-id-36 {color: black;background-color: white;}#sk-container-id-36 pre{padding: 0;}#sk-container-id-36 div.sk-toggleable {background-color: white;}#sk-container-id-36 label.sk-toggleable__label {cursor: pointer;display: block;width: 100%;margin-bottom: 0;padding: 0.3em;box-sizing: border-box;text-align: center;}#sk-container-id-36 label.sk-toggleable__label-arrow:before {content: \"▸\";float: left;margin-right: 0.25em;color: #696969;}#sk-container-id-36 label.sk-toggleable__label-arrow:hover:before {color: black;}#sk-container-id-36 div.sk-estimator:hover label.sk-toggleable__label-arrow:before {color: black;}#sk-container-id-36 div.sk-toggleable__content {max-height: 0;max-width: 0;overflow: hidden;text-align: left;background-color: #f0f8ff;}#sk-container-id-36 div.sk-toggleable__content pre {margin: 0.2em;color: black;border-radius: 0.25em;background-color: #f0f8ff;}#sk-container-id-36 input.sk-toggleable__control:checked~div.sk-toggleable__content {max-height: 200px;max-width: 100%;overflow: auto;}#sk-container-id-36 input.sk-toggleable__control:checked~label.sk-toggleable__label-arrow:before {content: \"▾\";}#sk-container-id-36 div.sk-estimator input.sk-toggleable__control:checked~label.sk-toggleable__label {background-color: #d4ebff;}#sk-container-id-36 div.sk-label input.sk-toggleable__control:checked~label.sk-toggleable__label {background-color: #d4ebff;}#sk-container-id-36 input.sk-hidden--visually {border: 0;clip: rect(1px 1px 1px 1px);clip: rect(1px, 1px, 1px, 1px);height: 1px;margin: -1px;overflow: hidden;padding: 0;position: absolute;width: 1px;}#sk-container-id-36 div.sk-estimator {font-family: monospace;background-color: #f0f8ff;border: 1px dotted black;border-radius: 0.25em;box-sizing: border-box;margin-bottom: 0.5em;}#sk-container-id-36 div.sk-estimator:hover {background-color: #d4ebff;}#sk-container-id-36 div.sk-parallel-item::after {content: \"\";width: 100%;border-bottom: 1px solid gray;flex-grow: 1;}#sk-container-id-36 div.sk-label:hover label.sk-toggleable__label {background-color: #d4ebff;}#sk-container-id-36 div.sk-serial::before {content: \"\";position: absolute;border-left: 1px solid gray;box-sizing: border-box;top: 0;bottom: 0;left: 50%;z-index: 0;}#sk-container-id-36 div.sk-serial {display: flex;flex-direction: column;align-items: center;background-color: white;padding-right: 0.2em;padding-left: 0.2em;position: relative;}#sk-container-id-36 div.sk-item {position: relative;z-index: 1;}#sk-container-id-36 div.sk-parallel {display: flex;align-items: stretch;justify-content: center;background-color: white;position: relative;}#sk-container-id-36 div.sk-item::before, #sk-container-id-36 div.sk-parallel-item::before {content: \"\";position: absolute;border-left: 1px solid gray;box-sizing: border-box;top: 0;bottom: 0;left: 50%;z-index: -1;}#sk-container-id-36 div.sk-parallel-item {display: flex;flex-direction: column;z-index: 1;position: relative;background-color: white;}#sk-container-id-36 div.sk-parallel-item:first-child::after {align-self: flex-end;width: 50%;}#sk-container-id-36 div.sk-parallel-item:last-child::after {align-self: flex-start;width: 50%;}#sk-container-id-36 div.sk-parallel-item:only-child::after {width: 0;}#sk-container-id-36 div.sk-dashed-wrapped {border: 1px dashed gray;margin: 0 0.4em 0.5em 0.4em;box-sizing: border-box;padding-bottom: 0.4em;background-color: white;}#sk-container-id-36 div.sk-label label {font-family: monospace;font-weight: bold;display: inline-block;line-height: 1.2em;}#sk-container-id-36 div.sk-label-container {text-align: center;}#sk-container-id-36 div.sk-container {/* jupyter's `normalize.less` sets `[hidden] { display: none; }` but bootstrap.min.css set `[hidden] { display: none !important; }` so we also need the `!important` here to be able to override the default hidden behavior on the sphinx rendered scikit-learn.org. See: https://github.com/scikit-learn/scikit-learn/issues/21755 */display: inline-block !important;position: relative;}#sk-container-id-36 div.sk-text-repr-fallback {display: none;}</style><div id=\"sk-container-id-36\" class=\"sk-top-container\"><div class=\"sk-text-repr-fallback\"><pre>Pipeline(steps=[(&#x27;columntransformer&#x27;,\n",
       "                 ColumnTransformer(remainder=&#x27;passthrough&#x27;,\n",
       "                                   transformers=[(&#x27;onehotencoder&#x27;,\n",
       "                                                  OneHotEncoder(),\n",
       "                                                  [&#x27;ocean_proximity&#x27;])])),\n",
       "                (&#x27;linearregression&#x27;, LinearRegression())])</pre><b>In a Jupyter environment, please rerun this cell to show the HTML representation or trust the notebook. <br />On GitHub, the HTML representation is unable to render, please try loading this page with nbviewer.org.</b></div><div class=\"sk-container\" hidden><div class=\"sk-item sk-dashed-wrapped\"><div class=\"sk-label-container\"><div class=\"sk-label sk-toggleable\"><input class=\"sk-toggleable__control sk-hidden--visually\" id=\"sk-estimator-id-252\" type=\"checkbox\" ><label for=\"sk-estimator-id-252\" class=\"sk-toggleable__label sk-toggleable__label-arrow\">Pipeline</label><div class=\"sk-toggleable__content\"><pre>Pipeline(steps=[(&#x27;columntransformer&#x27;,\n",
       "                 ColumnTransformer(remainder=&#x27;passthrough&#x27;,\n",
       "                                   transformers=[(&#x27;onehotencoder&#x27;,\n",
       "                                                  OneHotEncoder(),\n",
       "                                                  [&#x27;ocean_proximity&#x27;])])),\n",
       "                (&#x27;linearregression&#x27;, LinearRegression())])</pre></div></div></div><div class=\"sk-serial\"><div class=\"sk-item sk-dashed-wrapped\"><div class=\"sk-label-container\"><div class=\"sk-label sk-toggleable\"><input class=\"sk-toggleable__control sk-hidden--visually\" id=\"sk-estimator-id-253\" type=\"checkbox\" ><label for=\"sk-estimator-id-253\" class=\"sk-toggleable__label sk-toggleable__label-arrow\">columntransformer: ColumnTransformer</label><div class=\"sk-toggleable__content\"><pre>ColumnTransformer(remainder=&#x27;passthrough&#x27;,\n",
       "                  transformers=[(&#x27;onehotencoder&#x27;, OneHotEncoder(),\n",
       "                                 [&#x27;ocean_proximity&#x27;])])</pre></div></div></div><div class=\"sk-parallel\"><div class=\"sk-parallel-item\"><div class=\"sk-item\"><div class=\"sk-label-container\"><div class=\"sk-label sk-toggleable\"><input class=\"sk-toggleable__control sk-hidden--visually\" id=\"sk-estimator-id-254\" type=\"checkbox\" ><label for=\"sk-estimator-id-254\" class=\"sk-toggleable__label sk-toggleable__label-arrow\">onehotencoder</label><div class=\"sk-toggleable__content\"><pre>[&#x27;ocean_proximity&#x27;]</pre></div></div></div><div class=\"sk-serial\"><div class=\"sk-item\"><div class=\"sk-estimator sk-toggleable\"><input class=\"sk-toggleable__control sk-hidden--visually\" id=\"sk-estimator-id-255\" type=\"checkbox\" ><label for=\"sk-estimator-id-255\" class=\"sk-toggleable__label sk-toggleable__label-arrow\">OneHotEncoder</label><div class=\"sk-toggleable__content\"><pre>OneHotEncoder()</pre></div></div></div></div></div></div><div class=\"sk-parallel-item\"><div class=\"sk-item\"><div class=\"sk-label-container\"><div class=\"sk-label sk-toggleable\"><input class=\"sk-toggleable__control sk-hidden--visually\" id=\"sk-estimator-id-256\" type=\"checkbox\" ><label for=\"sk-estimator-id-256\" class=\"sk-toggleable__label sk-toggleable__label-arrow\">remainder</label><div class=\"sk-toggleable__content\"><pre></pre></div></div></div><div class=\"sk-serial\"><div class=\"sk-item\"><div class=\"sk-estimator sk-toggleable\"><input class=\"sk-toggleable__control sk-hidden--visually\" id=\"sk-estimator-id-257\" type=\"checkbox\" ><label for=\"sk-estimator-id-257\" class=\"sk-toggleable__label sk-toggleable__label-arrow\">passthrough</label><div class=\"sk-toggleable__content\"><pre>passthrough</pre></div></div></div></div></div></div></div></div><div class=\"sk-item\"><div class=\"sk-estimator sk-toggleable\"><input class=\"sk-toggleable__control sk-hidden--visually\" id=\"sk-estimator-id-258\" type=\"checkbox\" ><label for=\"sk-estimator-id-258\" class=\"sk-toggleable__label sk-toggleable__label-arrow\">LinearRegression</label><div class=\"sk-toggleable__content\"><pre>LinearRegression()</pre></div></div></div></div></div></div></div>"
      ],
      "text/plain": [
       "Pipeline(steps=[('columntransformer',\n",
       "                 ColumnTransformer(remainder='passthrough',\n",
       "                                   transformers=[('onehotencoder',\n",
       "                                                  OneHotEncoder(),\n",
       "                                                  ['ocean_proximity'])])),\n",
       "                ('linearregression', LinearRegression())])"
      ]
     },
     "execution_count": 416,
     "metadata": {},
     "output_type": "execute_result"
    }
   ],
   "source": [
    "pipe"
   ]
  },
  {
   "cell_type": "code",
   "execution_count": 417,
   "id": "931ab545",
   "metadata": {},
   "outputs": [],
   "source": [
    "socre_r2 = cross_val_score(pipe, X, y, cv=10,scoring=\"r2\").mean()"
   ]
  },
  {
   "cell_type": "code",
   "execution_count": 418,
   "id": "599f4565",
   "metadata": {},
   "outputs": [],
   "source": [
    "socre_mean_abso_error = cross_val_score(pipe, X, y, cv=10,scoring=\"neg_mean_absolute_error\").mean().round(2)"
   ]
  },
  {
   "cell_type": "code",
   "execution_count": 419,
   "id": "86fc9e60",
   "metadata": {},
   "outputs": [
    {
     "data": {
      "text/plain": [
       "0.6491475151368611"
      ]
     },
     "execution_count": 419,
     "metadata": {},
     "output_type": "execute_result"
    }
   ],
   "source": [
    "socre_r2"
   ]
  },
  {
   "cell_type": "code",
   "execution_count": 420,
   "id": "15b10a67",
   "metadata": {},
   "outputs": [
    {
     "data": {
      "text/plain": [
       "-49808.27"
      ]
     },
     "execution_count": 420,
     "metadata": {},
     "output_type": "execute_result"
    }
   ],
   "source": [
    "socre_mean_abso_error"
   ]
  },
  {
   "cell_type": "code",
   "execution_count": 421,
   "id": "a8322126",
   "metadata": {},
   "outputs": [
    {
     "data": {
      "text/html": [
       "<style>#sk-container-id-37 {color: black;background-color: white;}#sk-container-id-37 pre{padding: 0;}#sk-container-id-37 div.sk-toggleable {background-color: white;}#sk-container-id-37 label.sk-toggleable__label {cursor: pointer;display: block;width: 100%;margin-bottom: 0;padding: 0.3em;box-sizing: border-box;text-align: center;}#sk-container-id-37 label.sk-toggleable__label-arrow:before {content: \"▸\";float: left;margin-right: 0.25em;color: #696969;}#sk-container-id-37 label.sk-toggleable__label-arrow:hover:before {color: black;}#sk-container-id-37 div.sk-estimator:hover label.sk-toggleable__label-arrow:before {color: black;}#sk-container-id-37 div.sk-toggleable__content {max-height: 0;max-width: 0;overflow: hidden;text-align: left;background-color: #f0f8ff;}#sk-container-id-37 div.sk-toggleable__content pre {margin: 0.2em;color: black;border-radius: 0.25em;background-color: #f0f8ff;}#sk-container-id-37 input.sk-toggleable__control:checked~div.sk-toggleable__content {max-height: 200px;max-width: 100%;overflow: auto;}#sk-container-id-37 input.sk-toggleable__control:checked~label.sk-toggleable__label-arrow:before {content: \"▾\";}#sk-container-id-37 div.sk-estimator input.sk-toggleable__control:checked~label.sk-toggleable__label {background-color: #d4ebff;}#sk-container-id-37 div.sk-label input.sk-toggleable__control:checked~label.sk-toggleable__label {background-color: #d4ebff;}#sk-container-id-37 input.sk-hidden--visually {border: 0;clip: rect(1px 1px 1px 1px);clip: rect(1px, 1px, 1px, 1px);height: 1px;margin: -1px;overflow: hidden;padding: 0;position: absolute;width: 1px;}#sk-container-id-37 div.sk-estimator {font-family: monospace;background-color: #f0f8ff;border: 1px dotted black;border-radius: 0.25em;box-sizing: border-box;margin-bottom: 0.5em;}#sk-container-id-37 div.sk-estimator:hover {background-color: #d4ebff;}#sk-container-id-37 div.sk-parallel-item::after {content: \"\";width: 100%;border-bottom: 1px solid gray;flex-grow: 1;}#sk-container-id-37 div.sk-label:hover label.sk-toggleable__label {background-color: #d4ebff;}#sk-container-id-37 div.sk-serial::before {content: \"\";position: absolute;border-left: 1px solid gray;box-sizing: border-box;top: 0;bottom: 0;left: 50%;z-index: 0;}#sk-container-id-37 div.sk-serial {display: flex;flex-direction: column;align-items: center;background-color: white;padding-right: 0.2em;padding-left: 0.2em;position: relative;}#sk-container-id-37 div.sk-item {position: relative;z-index: 1;}#sk-container-id-37 div.sk-parallel {display: flex;align-items: stretch;justify-content: center;background-color: white;position: relative;}#sk-container-id-37 div.sk-item::before, #sk-container-id-37 div.sk-parallel-item::before {content: \"\";position: absolute;border-left: 1px solid gray;box-sizing: border-box;top: 0;bottom: 0;left: 50%;z-index: -1;}#sk-container-id-37 div.sk-parallel-item {display: flex;flex-direction: column;z-index: 1;position: relative;background-color: white;}#sk-container-id-37 div.sk-parallel-item:first-child::after {align-self: flex-end;width: 50%;}#sk-container-id-37 div.sk-parallel-item:last-child::after {align-self: flex-start;width: 50%;}#sk-container-id-37 div.sk-parallel-item:only-child::after {width: 0;}#sk-container-id-37 div.sk-dashed-wrapped {border: 1px dashed gray;margin: 0 0.4em 0.5em 0.4em;box-sizing: border-box;padding-bottom: 0.4em;background-color: white;}#sk-container-id-37 div.sk-label label {font-family: monospace;font-weight: bold;display: inline-block;line-height: 1.2em;}#sk-container-id-37 div.sk-label-container {text-align: center;}#sk-container-id-37 div.sk-container {/* jupyter's `normalize.less` sets `[hidden] { display: none; }` but bootstrap.min.css set `[hidden] { display: none !important; }` so we also need the `!important` here to be able to override the default hidden behavior on the sphinx rendered scikit-learn.org. See: https://github.com/scikit-learn/scikit-learn/issues/21755 */display: inline-block !important;position: relative;}#sk-container-id-37 div.sk-text-repr-fallback {display: none;}</style><div id=\"sk-container-id-37\" class=\"sk-top-container\"><div class=\"sk-text-repr-fallback\"><pre>Pipeline(steps=[(&#x27;columntransformer&#x27;,\n",
       "                 ColumnTransformer(remainder=&#x27;passthrough&#x27;,\n",
       "                                   transformers=[(&#x27;onehotencoder&#x27;,\n",
       "                                                  OneHotEncoder(),\n",
       "                                                  [&#x27;ocean_proximity&#x27;])])),\n",
       "                (&#x27;linearregression&#x27;, LinearRegression())])</pre><b>In a Jupyter environment, please rerun this cell to show the HTML representation or trust the notebook. <br />On GitHub, the HTML representation is unable to render, please try loading this page with nbviewer.org.</b></div><div class=\"sk-container\" hidden><div class=\"sk-item sk-dashed-wrapped\"><div class=\"sk-label-container\"><div class=\"sk-label sk-toggleable\"><input class=\"sk-toggleable__control sk-hidden--visually\" id=\"sk-estimator-id-259\" type=\"checkbox\" ><label for=\"sk-estimator-id-259\" class=\"sk-toggleable__label sk-toggleable__label-arrow\">Pipeline</label><div class=\"sk-toggleable__content\"><pre>Pipeline(steps=[(&#x27;columntransformer&#x27;,\n",
       "                 ColumnTransformer(remainder=&#x27;passthrough&#x27;,\n",
       "                                   transformers=[(&#x27;onehotencoder&#x27;,\n",
       "                                                  OneHotEncoder(),\n",
       "                                                  [&#x27;ocean_proximity&#x27;])])),\n",
       "                (&#x27;linearregression&#x27;, LinearRegression())])</pre></div></div></div><div class=\"sk-serial\"><div class=\"sk-item sk-dashed-wrapped\"><div class=\"sk-label-container\"><div class=\"sk-label sk-toggleable\"><input class=\"sk-toggleable__control sk-hidden--visually\" id=\"sk-estimator-id-260\" type=\"checkbox\" ><label for=\"sk-estimator-id-260\" class=\"sk-toggleable__label sk-toggleable__label-arrow\">columntransformer: ColumnTransformer</label><div class=\"sk-toggleable__content\"><pre>ColumnTransformer(remainder=&#x27;passthrough&#x27;,\n",
       "                  transformers=[(&#x27;onehotencoder&#x27;, OneHotEncoder(),\n",
       "                                 [&#x27;ocean_proximity&#x27;])])</pre></div></div></div><div class=\"sk-parallel\"><div class=\"sk-parallel-item\"><div class=\"sk-item\"><div class=\"sk-label-container\"><div class=\"sk-label sk-toggleable\"><input class=\"sk-toggleable__control sk-hidden--visually\" id=\"sk-estimator-id-261\" type=\"checkbox\" ><label for=\"sk-estimator-id-261\" class=\"sk-toggleable__label sk-toggleable__label-arrow\">onehotencoder</label><div class=\"sk-toggleable__content\"><pre>[&#x27;ocean_proximity&#x27;]</pre></div></div></div><div class=\"sk-serial\"><div class=\"sk-item\"><div class=\"sk-estimator sk-toggleable\"><input class=\"sk-toggleable__control sk-hidden--visually\" id=\"sk-estimator-id-262\" type=\"checkbox\" ><label for=\"sk-estimator-id-262\" class=\"sk-toggleable__label sk-toggleable__label-arrow\">OneHotEncoder</label><div class=\"sk-toggleable__content\"><pre>OneHotEncoder()</pre></div></div></div></div></div></div><div class=\"sk-parallel-item\"><div class=\"sk-item\"><div class=\"sk-label-container\"><div class=\"sk-label sk-toggleable\"><input class=\"sk-toggleable__control sk-hidden--visually\" id=\"sk-estimator-id-263\" type=\"checkbox\" ><label for=\"sk-estimator-id-263\" class=\"sk-toggleable__label sk-toggleable__label-arrow\">remainder</label><div class=\"sk-toggleable__content\"><pre></pre></div></div></div><div class=\"sk-serial\"><div class=\"sk-item\"><div class=\"sk-estimator sk-toggleable\"><input class=\"sk-toggleable__control sk-hidden--visually\" id=\"sk-estimator-id-264\" type=\"checkbox\" ><label for=\"sk-estimator-id-264\" class=\"sk-toggleable__label sk-toggleable__label-arrow\">passthrough</label><div class=\"sk-toggleable__content\"><pre>passthrough</pre></div></div></div></div></div></div></div></div><div class=\"sk-item\"><div class=\"sk-estimator sk-toggleable\"><input class=\"sk-toggleable__control sk-hidden--visually\" id=\"sk-estimator-id-265\" type=\"checkbox\" ><label for=\"sk-estimator-id-265\" class=\"sk-toggleable__label sk-toggleable__label-arrow\">LinearRegression</label><div class=\"sk-toggleable__content\"><pre>LinearRegression()</pre></div></div></div></div></div></div></div>"
      ],
      "text/plain": [
       "Pipeline(steps=[('columntransformer',\n",
       "                 ColumnTransformer(remainder='passthrough',\n",
       "                                   transformers=[('onehotencoder',\n",
       "                                                  OneHotEncoder(),\n",
       "                                                  ['ocean_proximity'])])),\n",
       "                ('linearregression', LinearRegression())])"
      ]
     },
     "execution_count": 421,
     "metadata": {},
     "output_type": "execute_result"
    }
   ],
   "source": [
    "pipe"
   ]
  },
  {
   "cell_type": "markdown",
   "id": "fc0f51ec",
   "metadata": {},
   "source": [
    "# Itteration 3\n"
   ]
  },
  {
   "cell_type": "code",
   "execution_count": 422,
   "id": "84b98bde",
   "metadata": {},
   "outputs": [],
   "source": [
    "from sklearn.inspection import permutation_importance"
   ]
  },
  {
   "cell_type": "code",
   "execution_count": 423,
   "id": "84b1b0b5",
   "metadata": {},
   "outputs": [],
   "source": [
    "# feature_cols = [\n",
    "#  'longitude',\n",
    "#  'latitude',\n",
    "#  'housing_median_age',\n",
    "#  'total_rooms',\n",
    "#  'total_bedrooms',\n",
    "#  'population',\n",
    "#  'households',\n",
    "#  'median_income']\n",
    "\n",
    "\n",
    "# X = df_clean[feature_cols]\n",
    "# y = df_clean['median_house_value']"
   ]
  },
  {
   "cell_type": "code",
   "execution_count": 424,
   "id": "2e4365e8",
   "metadata": {},
   "outputs": [],
   "source": [
    "# clf = LinearRegression().fit(X, y)"
   ]
  },
  {
   "cell_type": "code",
   "execution_count": 425,
   "id": "fef4cd01",
   "metadata": {},
   "outputs": [],
   "source": [
    "# result = permutation_importance(clf, X, y, n_repeats=10,random_state=0)"
   ]
  },
  {
   "cell_type": "code",
   "execution_count": 426,
   "id": "2c2a2bff",
   "metadata": {},
   "outputs": [],
   "source": [
    "# result.importances_mean\n"
   ]
  },
  {
   "cell_type": "code",
   "execution_count": 427,
   "id": "a2f62e2e",
   "metadata": {},
   "outputs": [],
   "source": [
    "# result.importances_std"
   ]
  },
  {
   "cell_type": "markdown",
   "id": "c77036c9",
   "metadata": {},
   "source": [
    "# Ittération 5"
   ]
  },
  {
   "cell_type": "code",
   "execution_count": 428,
   "id": "5d3cb638",
   "metadata": {},
   "outputs": [],
   "source": [
    "# feature_cols = [\n",
    "#  'longitude',\n",
    "#  'latitude',\n",
    "#  'housing_median_age',\n",
    "#  'total_rooms',\n",
    "#  'total_bedrooms',\n",
    "#  'population',\n",
    "#  'households',\n",
    "#  'median_income',\n",
    "#  'ocean_proximity']\n",
    "\n",
    "\n",
    "# X = df_clean[feature_cols]\n",
    "# y = df_clean['median_house_value']"
   ]
  },
  {
   "cell_type": "code",
   "execution_count": 429,
   "id": "ba0aad6e",
   "metadata": {},
   "outputs": [
    {
     "name": "stdout",
     "output_type": "stream",
     "text": [
      "score [0.66009834 0.6376343  0.66047354 0.65065131 0.63679773]\n",
      "moyenne :0.649 , deviation: :0.010\n"
     ]
    }
   ],
   "source": [
    "scores=model_selection.cross_val_score(pipe,X ,y ,  cv=5)\n",
    "print(\"score\",scores)\n",
    "print(\"moyenne :%0.03f , deviation: :%0.03f\" % (scores.mean(), scores.std()))"
   ]
  },
  {
   "cell_type": "code",
   "execution_count": 430,
   "id": "8e090239",
   "metadata": {},
   "outputs": [
    {
     "data": {
      "text/html": [
       "<style>#sk-container-id-38 {color: black;background-color: white;}#sk-container-id-38 pre{padding: 0;}#sk-container-id-38 div.sk-toggleable {background-color: white;}#sk-container-id-38 label.sk-toggleable__label {cursor: pointer;display: block;width: 100%;margin-bottom: 0;padding: 0.3em;box-sizing: border-box;text-align: center;}#sk-container-id-38 label.sk-toggleable__label-arrow:before {content: \"▸\";float: left;margin-right: 0.25em;color: #696969;}#sk-container-id-38 label.sk-toggleable__label-arrow:hover:before {color: black;}#sk-container-id-38 div.sk-estimator:hover label.sk-toggleable__label-arrow:before {color: black;}#sk-container-id-38 div.sk-toggleable__content {max-height: 0;max-width: 0;overflow: hidden;text-align: left;background-color: #f0f8ff;}#sk-container-id-38 div.sk-toggleable__content pre {margin: 0.2em;color: black;border-radius: 0.25em;background-color: #f0f8ff;}#sk-container-id-38 input.sk-toggleable__control:checked~div.sk-toggleable__content {max-height: 200px;max-width: 100%;overflow: auto;}#sk-container-id-38 input.sk-toggleable__control:checked~label.sk-toggleable__label-arrow:before {content: \"▾\";}#sk-container-id-38 div.sk-estimator input.sk-toggleable__control:checked~label.sk-toggleable__label {background-color: #d4ebff;}#sk-container-id-38 div.sk-label input.sk-toggleable__control:checked~label.sk-toggleable__label {background-color: #d4ebff;}#sk-container-id-38 input.sk-hidden--visually {border: 0;clip: rect(1px 1px 1px 1px);clip: rect(1px, 1px, 1px, 1px);height: 1px;margin: -1px;overflow: hidden;padding: 0;position: absolute;width: 1px;}#sk-container-id-38 div.sk-estimator {font-family: monospace;background-color: #f0f8ff;border: 1px dotted black;border-radius: 0.25em;box-sizing: border-box;margin-bottom: 0.5em;}#sk-container-id-38 div.sk-estimator:hover {background-color: #d4ebff;}#sk-container-id-38 div.sk-parallel-item::after {content: \"\";width: 100%;border-bottom: 1px solid gray;flex-grow: 1;}#sk-container-id-38 div.sk-label:hover label.sk-toggleable__label {background-color: #d4ebff;}#sk-container-id-38 div.sk-serial::before {content: \"\";position: absolute;border-left: 1px solid gray;box-sizing: border-box;top: 0;bottom: 0;left: 50%;z-index: 0;}#sk-container-id-38 div.sk-serial {display: flex;flex-direction: column;align-items: center;background-color: white;padding-right: 0.2em;padding-left: 0.2em;position: relative;}#sk-container-id-38 div.sk-item {position: relative;z-index: 1;}#sk-container-id-38 div.sk-parallel {display: flex;align-items: stretch;justify-content: center;background-color: white;position: relative;}#sk-container-id-38 div.sk-item::before, #sk-container-id-38 div.sk-parallel-item::before {content: \"\";position: absolute;border-left: 1px solid gray;box-sizing: border-box;top: 0;bottom: 0;left: 50%;z-index: -1;}#sk-container-id-38 div.sk-parallel-item {display: flex;flex-direction: column;z-index: 1;position: relative;background-color: white;}#sk-container-id-38 div.sk-parallel-item:first-child::after {align-self: flex-end;width: 50%;}#sk-container-id-38 div.sk-parallel-item:last-child::after {align-self: flex-start;width: 50%;}#sk-container-id-38 div.sk-parallel-item:only-child::after {width: 0;}#sk-container-id-38 div.sk-dashed-wrapped {border: 1px dashed gray;margin: 0 0.4em 0.5em 0.4em;box-sizing: border-box;padding-bottom: 0.4em;background-color: white;}#sk-container-id-38 div.sk-label label {font-family: monospace;font-weight: bold;display: inline-block;line-height: 1.2em;}#sk-container-id-38 div.sk-label-container {text-align: center;}#sk-container-id-38 div.sk-container {/* jupyter's `normalize.less` sets `[hidden] { display: none; }` but bootstrap.min.css set `[hidden] { display: none !important; }` so we also need the `!important` here to be able to override the default hidden behavior on the sphinx rendered scikit-learn.org. See: https://github.com/scikit-learn/scikit-learn/issues/21755 */display: inline-block !important;position: relative;}#sk-container-id-38 div.sk-text-repr-fallback {display: none;}</style><div id=\"sk-container-id-38\" class=\"sk-top-container\"><div class=\"sk-text-repr-fallback\"><pre>Pipeline(steps=[(&#x27;columntransformer&#x27;,\n",
       "                 ColumnTransformer(remainder=&#x27;passthrough&#x27;,\n",
       "                                   transformers=[(&#x27;onehotencoder&#x27;,\n",
       "                                                  OneHotEncoder(),\n",
       "                                                  [&#x27;ocean_proximity&#x27;])])),\n",
       "                (&#x27;linearregression&#x27;, LinearRegression())])</pre><b>In a Jupyter environment, please rerun this cell to show the HTML representation or trust the notebook. <br />On GitHub, the HTML representation is unable to render, please try loading this page with nbviewer.org.</b></div><div class=\"sk-container\" hidden><div class=\"sk-item sk-dashed-wrapped\"><div class=\"sk-label-container\"><div class=\"sk-label sk-toggleable\"><input class=\"sk-toggleable__control sk-hidden--visually\" id=\"sk-estimator-id-266\" type=\"checkbox\" ><label for=\"sk-estimator-id-266\" class=\"sk-toggleable__label sk-toggleable__label-arrow\">Pipeline</label><div class=\"sk-toggleable__content\"><pre>Pipeline(steps=[(&#x27;columntransformer&#x27;,\n",
       "                 ColumnTransformer(remainder=&#x27;passthrough&#x27;,\n",
       "                                   transformers=[(&#x27;onehotencoder&#x27;,\n",
       "                                                  OneHotEncoder(),\n",
       "                                                  [&#x27;ocean_proximity&#x27;])])),\n",
       "                (&#x27;linearregression&#x27;, LinearRegression())])</pre></div></div></div><div class=\"sk-serial\"><div class=\"sk-item sk-dashed-wrapped\"><div class=\"sk-label-container\"><div class=\"sk-label sk-toggleable\"><input class=\"sk-toggleable__control sk-hidden--visually\" id=\"sk-estimator-id-267\" type=\"checkbox\" ><label for=\"sk-estimator-id-267\" class=\"sk-toggleable__label sk-toggleable__label-arrow\">columntransformer: ColumnTransformer</label><div class=\"sk-toggleable__content\"><pre>ColumnTransformer(remainder=&#x27;passthrough&#x27;,\n",
       "                  transformers=[(&#x27;onehotencoder&#x27;, OneHotEncoder(),\n",
       "                                 [&#x27;ocean_proximity&#x27;])])</pre></div></div></div><div class=\"sk-parallel\"><div class=\"sk-parallel-item\"><div class=\"sk-item\"><div class=\"sk-label-container\"><div class=\"sk-label sk-toggleable\"><input class=\"sk-toggleable__control sk-hidden--visually\" id=\"sk-estimator-id-268\" type=\"checkbox\" ><label for=\"sk-estimator-id-268\" class=\"sk-toggleable__label sk-toggleable__label-arrow\">onehotencoder</label><div class=\"sk-toggleable__content\"><pre>[&#x27;ocean_proximity&#x27;]</pre></div></div></div><div class=\"sk-serial\"><div class=\"sk-item\"><div class=\"sk-estimator sk-toggleable\"><input class=\"sk-toggleable__control sk-hidden--visually\" id=\"sk-estimator-id-269\" type=\"checkbox\" ><label for=\"sk-estimator-id-269\" class=\"sk-toggleable__label sk-toggleable__label-arrow\">OneHotEncoder</label><div class=\"sk-toggleable__content\"><pre>OneHotEncoder()</pre></div></div></div></div></div></div><div class=\"sk-parallel-item\"><div class=\"sk-item\"><div class=\"sk-label-container\"><div class=\"sk-label sk-toggleable\"><input class=\"sk-toggleable__control sk-hidden--visually\" id=\"sk-estimator-id-270\" type=\"checkbox\" ><label for=\"sk-estimator-id-270\" class=\"sk-toggleable__label sk-toggleable__label-arrow\">remainder</label><div class=\"sk-toggleable__content\"><pre>[&#x27;longitude&#x27;, &#x27;latitude&#x27;, &#x27;housing_median_age&#x27;, &#x27;total_bedrooms&#x27;, &#x27;population&#x27;, &#x27;households&#x27;, &#x27;median_income&#x27;]</pre></div></div></div><div class=\"sk-serial\"><div class=\"sk-item\"><div class=\"sk-estimator sk-toggleable\"><input class=\"sk-toggleable__control sk-hidden--visually\" id=\"sk-estimator-id-271\" type=\"checkbox\" ><label for=\"sk-estimator-id-271\" class=\"sk-toggleable__label sk-toggleable__label-arrow\">passthrough</label><div class=\"sk-toggleable__content\"><pre>passthrough</pre></div></div></div></div></div></div></div></div><div class=\"sk-item\"><div class=\"sk-estimator sk-toggleable\"><input class=\"sk-toggleable__control sk-hidden--visually\" id=\"sk-estimator-id-272\" type=\"checkbox\" ><label for=\"sk-estimator-id-272\" class=\"sk-toggleable__label sk-toggleable__label-arrow\">LinearRegression</label><div class=\"sk-toggleable__content\"><pre>LinearRegression()</pre></div></div></div></div></div></div></div>"
      ],
      "text/plain": [
       "Pipeline(steps=[('columntransformer',\n",
       "                 ColumnTransformer(remainder='passthrough',\n",
       "                                   transformers=[('onehotencoder',\n",
       "                                                  OneHotEncoder(),\n",
       "                                                  ['ocean_proximity'])])),\n",
       "                ('linearregression', LinearRegression())])"
      ]
     },
     "execution_count": 430,
     "metadata": {},
     "output_type": "execute_result"
    }
   ],
   "source": [
    "pipe.fit(X,y)"
   ]
  },
  {
   "cell_type": "code",
   "execution_count": 431,
   "id": "7d8561f2",
   "metadata": {},
   "outputs": [],
   "source": [
    "result = permutation_importance(pipe, X, y, n_repeats=10,random_state=0)"
   ]
  },
  {
   "cell_type": "code",
   "execution_count": 432,
   "id": "ba95db1a",
   "metadata": {},
   "outputs": [
    {
     "data": {
      "text/plain": [
       "array([0.43061878, 0.45745198, 0.02563184, 0.06279298, 0.41417221,\n",
       "       0.20452319, 0.75501256, 0.05557478])"
      ]
     },
     "execution_count": 432,
     "metadata": {},
     "output_type": "execute_result"
    }
   ],
   "source": [
    "result.importances_mean"
   ]
  },
  {
   "cell_type": "code",
   "execution_count": 433,
   "id": "072a8ef0",
   "metadata": {},
   "outputs": [
    {
     "data": {
      "text/html": [
       "<style>#sk-container-id-39 {color: black;background-color: white;}#sk-container-id-39 pre{padding: 0;}#sk-container-id-39 div.sk-toggleable {background-color: white;}#sk-container-id-39 label.sk-toggleable__label {cursor: pointer;display: block;width: 100%;margin-bottom: 0;padding: 0.3em;box-sizing: border-box;text-align: center;}#sk-container-id-39 label.sk-toggleable__label-arrow:before {content: \"▸\";float: left;margin-right: 0.25em;color: #696969;}#sk-container-id-39 label.sk-toggleable__label-arrow:hover:before {color: black;}#sk-container-id-39 div.sk-estimator:hover label.sk-toggleable__label-arrow:before {color: black;}#sk-container-id-39 div.sk-toggleable__content {max-height: 0;max-width: 0;overflow: hidden;text-align: left;background-color: #f0f8ff;}#sk-container-id-39 div.sk-toggleable__content pre {margin: 0.2em;color: black;border-radius: 0.25em;background-color: #f0f8ff;}#sk-container-id-39 input.sk-toggleable__control:checked~div.sk-toggleable__content {max-height: 200px;max-width: 100%;overflow: auto;}#sk-container-id-39 input.sk-toggleable__control:checked~label.sk-toggleable__label-arrow:before {content: \"▾\";}#sk-container-id-39 div.sk-estimator input.sk-toggleable__control:checked~label.sk-toggleable__label {background-color: #d4ebff;}#sk-container-id-39 div.sk-label input.sk-toggleable__control:checked~label.sk-toggleable__label {background-color: #d4ebff;}#sk-container-id-39 input.sk-hidden--visually {border: 0;clip: rect(1px 1px 1px 1px);clip: rect(1px, 1px, 1px, 1px);height: 1px;margin: -1px;overflow: hidden;padding: 0;position: absolute;width: 1px;}#sk-container-id-39 div.sk-estimator {font-family: monospace;background-color: #f0f8ff;border: 1px dotted black;border-radius: 0.25em;box-sizing: border-box;margin-bottom: 0.5em;}#sk-container-id-39 div.sk-estimator:hover {background-color: #d4ebff;}#sk-container-id-39 div.sk-parallel-item::after {content: \"\";width: 100%;border-bottom: 1px solid gray;flex-grow: 1;}#sk-container-id-39 div.sk-label:hover label.sk-toggleable__label {background-color: #d4ebff;}#sk-container-id-39 div.sk-serial::before {content: \"\";position: absolute;border-left: 1px solid gray;box-sizing: border-box;top: 0;bottom: 0;left: 50%;z-index: 0;}#sk-container-id-39 div.sk-serial {display: flex;flex-direction: column;align-items: center;background-color: white;padding-right: 0.2em;padding-left: 0.2em;position: relative;}#sk-container-id-39 div.sk-item {position: relative;z-index: 1;}#sk-container-id-39 div.sk-parallel {display: flex;align-items: stretch;justify-content: center;background-color: white;position: relative;}#sk-container-id-39 div.sk-item::before, #sk-container-id-39 div.sk-parallel-item::before {content: \"\";position: absolute;border-left: 1px solid gray;box-sizing: border-box;top: 0;bottom: 0;left: 50%;z-index: -1;}#sk-container-id-39 div.sk-parallel-item {display: flex;flex-direction: column;z-index: 1;position: relative;background-color: white;}#sk-container-id-39 div.sk-parallel-item:first-child::after {align-self: flex-end;width: 50%;}#sk-container-id-39 div.sk-parallel-item:last-child::after {align-self: flex-start;width: 50%;}#sk-container-id-39 div.sk-parallel-item:only-child::after {width: 0;}#sk-container-id-39 div.sk-dashed-wrapped {border: 1px dashed gray;margin: 0 0.4em 0.5em 0.4em;box-sizing: border-box;padding-bottom: 0.4em;background-color: white;}#sk-container-id-39 div.sk-label label {font-family: monospace;font-weight: bold;display: inline-block;line-height: 1.2em;}#sk-container-id-39 div.sk-label-container {text-align: center;}#sk-container-id-39 div.sk-container {/* jupyter's `normalize.less` sets `[hidden] { display: none; }` but bootstrap.min.css set `[hidden] { display: none !important; }` so we also need the `!important` here to be able to override the default hidden behavior on the sphinx rendered scikit-learn.org. See: https://github.com/scikit-learn/scikit-learn/issues/21755 */display: inline-block !important;position: relative;}#sk-container-id-39 div.sk-text-repr-fallback {display: none;}</style><div id=\"sk-container-id-39\" class=\"sk-top-container\"><div class=\"sk-text-repr-fallback\"><pre>Pipeline(steps=[(&#x27;columntransformer&#x27;,\n",
       "                 ColumnTransformer(remainder=&#x27;passthrough&#x27;,\n",
       "                                   transformers=[(&#x27;onehotencoder&#x27;,\n",
       "                                                  OneHotEncoder(),\n",
       "                                                  [&#x27;ocean_proximity&#x27;])])),\n",
       "                (&#x27;linearregression&#x27;, LinearRegression())])</pre><b>In a Jupyter environment, please rerun this cell to show the HTML representation or trust the notebook. <br />On GitHub, the HTML representation is unable to render, please try loading this page with nbviewer.org.</b></div><div class=\"sk-container\" hidden><div class=\"sk-item sk-dashed-wrapped\"><div class=\"sk-label-container\"><div class=\"sk-label sk-toggleable\"><input class=\"sk-toggleable__control sk-hidden--visually\" id=\"sk-estimator-id-273\" type=\"checkbox\" ><label for=\"sk-estimator-id-273\" class=\"sk-toggleable__label sk-toggleable__label-arrow\">Pipeline</label><div class=\"sk-toggleable__content\"><pre>Pipeline(steps=[(&#x27;columntransformer&#x27;,\n",
       "                 ColumnTransformer(remainder=&#x27;passthrough&#x27;,\n",
       "                                   transformers=[(&#x27;onehotencoder&#x27;,\n",
       "                                                  OneHotEncoder(),\n",
       "                                                  [&#x27;ocean_proximity&#x27;])])),\n",
       "                (&#x27;linearregression&#x27;, LinearRegression())])</pre></div></div></div><div class=\"sk-serial\"><div class=\"sk-item sk-dashed-wrapped\"><div class=\"sk-label-container\"><div class=\"sk-label sk-toggleable\"><input class=\"sk-toggleable__control sk-hidden--visually\" id=\"sk-estimator-id-274\" type=\"checkbox\" ><label for=\"sk-estimator-id-274\" class=\"sk-toggleable__label sk-toggleable__label-arrow\">columntransformer: ColumnTransformer</label><div class=\"sk-toggleable__content\"><pre>ColumnTransformer(remainder=&#x27;passthrough&#x27;,\n",
       "                  transformers=[(&#x27;onehotencoder&#x27;, OneHotEncoder(),\n",
       "                                 [&#x27;ocean_proximity&#x27;])])</pre></div></div></div><div class=\"sk-parallel\"><div class=\"sk-parallel-item\"><div class=\"sk-item\"><div class=\"sk-label-container\"><div class=\"sk-label sk-toggleable\"><input class=\"sk-toggleable__control sk-hidden--visually\" id=\"sk-estimator-id-275\" type=\"checkbox\" ><label for=\"sk-estimator-id-275\" class=\"sk-toggleable__label sk-toggleable__label-arrow\">onehotencoder</label><div class=\"sk-toggleable__content\"><pre>[&#x27;ocean_proximity&#x27;]</pre></div></div></div><div class=\"sk-serial\"><div class=\"sk-item\"><div class=\"sk-estimator sk-toggleable\"><input class=\"sk-toggleable__control sk-hidden--visually\" id=\"sk-estimator-id-276\" type=\"checkbox\" ><label for=\"sk-estimator-id-276\" class=\"sk-toggleable__label sk-toggleable__label-arrow\">OneHotEncoder</label><div class=\"sk-toggleable__content\"><pre>OneHotEncoder()</pre></div></div></div></div></div></div><div class=\"sk-parallel-item\"><div class=\"sk-item\"><div class=\"sk-label-container\"><div class=\"sk-label sk-toggleable\"><input class=\"sk-toggleable__control sk-hidden--visually\" id=\"sk-estimator-id-277\" type=\"checkbox\" ><label for=\"sk-estimator-id-277\" class=\"sk-toggleable__label sk-toggleable__label-arrow\">remainder</label><div class=\"sk-toggleable__content\"><pre>[&#x27;longitude&#x27;, &#x27;latitude&#x27;, &#x27;housing_median_age&#x27;, &#x27;total_bedrooms&#x27;, &#x27;population&#x27;, &#x27;households&#x27;, &#x27;median_income&#x27;]</pre></div></div></div><div class=\"sk-serial\"><div class=\"sk-item\"><div class=\"sk-estimator sk-toggleable\"><input class=\"sk-toggleable__control sk-hidden--visually\" id=\"sk-estimator-id-278\" type=\"checkbox\" ><label for=\"sk-estimator-id-278\" class=\"sk-toggleable__label sk-toggleable__label-arrow\">passthrough</label><div class=\"sk-toggleable__content\"><pre>passthrough</pre></div></div></div></div></div></div></div></div><div class=\"sk-item\"><div class=\"sk-estimator sk-toggleable\"><input class=\"sk-toggleable__control sk-hidden--visually\" id=\"sk-estimator-id-279\" type=\"checkbox\" ><label for=\"sk-estimator-id-279\" class=\"sk-toggleable__label sk-toggleable__label-arrow\">LinearRegression</label><div class=\"sk-toggleable__content\"><pre>LinearRegression()</pre></div></div></div></div></div></div></div>"
      ],
      "text/plain": [
       "Pipeline(steps=[('columntransformer',\n",
       "                 ColumnTransformer(remainder='passthrough',\n",
       "                                   transformers=[('onehotencoder',\n",
       "                                                  OneHotEncoder(),\n",
       "                                                  ['ocean_proximity'])])),\n",
       "                ('linearregression', LinearRegression())])"
      ]
     },
     "execution_count": 433,
     "metadata": {},
     "output_type": "execute_result"
    }
   ],
   "source": [
    "pipe"
   ]
  },
  {
   "cell_type": "code",
   "execution_count": 437,
   "id": "9bb3a393",
   "metadata": {},
   "outputs": [],
   "source": [
    "sorted_idx = result.importances_mean.argsort()"
   ]
  },
  {
   "cell_type": "code",
   "execution_count": 438,
   "id": "fefde202",
   "metadata": {},
   "outputs": [
    {
     "data": {
      "image/png": "[encoded data removed]",
      "text/plain": [
       "<Figure size 900x700 with 1 Axes>"
      ]
     },
     "metadata": {},
     "output_type": "display_data"
    }
   ],
   "source": [
    "#We see that some feature avec low importance \n",
    "fig, ax = plt.subplots(figsize=(9,7))\n",
    "ax.boxplot(result.importances[sorted_idx].T,\n",
    "           vert=False, labels=X.columns[sorted_idx])\n",
    "ax.set_title(\"Permutation Importances (test set)\")\n",
    "fig.tight_layout()\n",
    "plt.show()"
   ]
  },
  {
   "cell_type": "code",
   "execution_count": 439,
   "id": "cbb9c597",
   "metadata": {},
   "outputs": [
    {
     "name": "stdout",
     "output_type": "stream",
     "text": [
      "Average R2:  0.6491310455614656 // Average RMSE:  68229.98203753296 // Average MAE: 49812.363977130226\n"
     ]
    }
   ],
   "source": [
    "scores = cross_validate(pipe, X, y, cv=5, scoring=('r2', 'neg_root_mean_squared_error','neg_mean_absolute_error'))\n",
    "\n",
    "average_r2 = scores['test_r2'].mean()\n",
    "average_rmse = -scores['test_neg_root_mean_squared_error'].mean()\n",
    "average_mae = -scores['test_neg_mean_absolute_error'].mean()\n",
    "print(\"Average R2: \", average_r2, \"// Average RMSE: \", average_rmse, \"// Average MAE:\", average_mae)"
   ]
  },
  {
   "cell_type": "code",
   "execution_count": null,
   "id": "eb50cec7",
   "metadata": {},
   "outputs": [],
   "source": []
  }
 ],
 "metadata": {
  "kernelspec": {
   "display_name": "Python 3 (ipykernel)",
   "language": "python",
   "name": "python3"
  },
  "language_info": {
   "codemirror_mode": {
    "name": "ipython",
    "version": 3
   },
   "file_extension": ".py",
   "mimetype": "text/x-python",
   "name": "python",
   "nbconvert_exporter": "python",
   "pygments_lexer": "ipython3",
   "version": "3.8.12"
  },
  "toc": {
   "base_numbering": 1,
   "nav_menu": {},
   "number_sections": true,
   "sideBar": true,
   "skip_h1_title": false,
   "title_cell": "Table of Contents",
   "title_sidebar": "Contents",
   "toc_cell": false,
   "toc_position": {},
   "toc_section_display": true,
   "toc_window_display": false
  }
 },
 "nbformat": 4,
 "nbformat_minor": 5
}
