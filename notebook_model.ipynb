{
 "cells": [
  {
   "cell_type": "markdown",
   "id": "323203dd",
   "metadata": {},
   "source": [
    "# import \n"
   ]
  },
  {
   "cell_type": "code",
   "execution_count": 2,
   "id": "66ae48a8",
   "metadata": {},
   "outputs": [],
   "source": [
    "import numpy as np\n",
    "import pandas as pd\n",
    "\n",
    "from sklearn.linear_model import LinearRegression\n",
    "from sklearn.model_selection import train_test_split\n"
   ]
  },
  {
   "cell_type": "code",
   "execution_count": 7,
   "id": "3253475d",
   "metadata": {},
   "outputs": [],
   "source": [
    "df_clean = pd.read_csv ('dataframeclean.csv')"
   ]
  },
  {
   "cell_type": "code",
   "execution_count": 9,
   "id": "1065075c",
   "metadata": {},
   "outputs": [
    {
     "data": {
      "text/plain": [
       "Index(['longitude,latitude', 'longitude', 'latitude', 'housing_median_age',\n",
       "       'total_rooms', 'total_bedrooms', 'population', 'households',\n",
       "       'median_income', 'median_house_value', 'num_ocean_proximity',\n",
       "       'ocean_proximity'],\n",
       "      dtype='object')"
      ]
     },
     "execution_count": 9,
     "metadata": {},
     "output_type": "execute_result"
    }
   ],
   "source": [
    "df_clean.columns\n"
   ]
  },
  {
   "cell_type": "markdown",
   "id": "57833850",
   "metadata": {},
   "source": [
    "# Baseline model "
   ]
  },
  {
   "cell_type": "code",
   "execution_count": 13,
   "id": "c914f2d8",
   "metadata": {},
   "outputs": [
    {
     "data": {
      "text/plain": [
       "0.6030265958179146"
      ]
     },
     "execution_count": 13,
     "metadata": {},
     "output_type": "execute_result"
    }
   ],
   "source": [
    "# Choose your feature and your target\n",
    "X = df_clean[['total_rooms', 'total_bedrooms', 'population',\"households\",\"median_income\"]]\n",
    "y = df_clean['median_house_value']\n",
    "\n",
    "# Splitting the data\n",
    "X_train, X_test, y_train, y_test = train_test_split(X, y, test_size=.3, random_state=3)\n",
    "\n",
    "# Choose your model\n",
    "model = LinearRegression()\n",
    "\n",
    "# Fit the model with the train set\n",
    "model.fit(X_train, y_train)\n",
    "\n",
    "# Evaluate the model with the test set\n",
    "model.score(X_test, y_test)"
   ]
  },
  {
   "cell_type": "code",
   "execution_count": null,
   "id": "52090f51",
   "metadata": {},
   "outputs": [],
   "source": []
  }
 ],
 "metadata": {
  "kernelspec": {
   "display_name": "Python 3 (ipykernel)",
   "language": "python",
   "name": "python3"
  },
  "language_info": {
   "codemirror_mode": {
    "name": "ipython",
    "version": 3
   },
   "file_extension": ".py",
   "mimetype": "text/x-python",
   "name": "python",
   "nbconvert_exporter": "python",
   "pygments_lexer": "ipython3",
   "version": "3.8.12"
  },
  "toc": {
   "base_numbering": 1,
   "nav_menu": {},
   "number_sections": true,
   "sideBar": true,
   "skip_h1_title": false,
   "title_cell": "Table of Contents",
   "title_sidebar": "Contents",
   "toc_cell": false,
   "toc_position": {},
   "toc_section_display": true,
   "toc_window_display": false
  }
 },
 "nbformat": 4,
 "nbformat_minor": 5
}
