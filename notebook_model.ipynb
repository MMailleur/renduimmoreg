{
 "cells": [
  {
   "cell_type": "markdown",
   "id": "f7c79417",
   "metadata": {},
   "source": [
    "# import \n"
   ]
  },
  {
   "cell_type": "code",
   "execution_count": 132,
   "id": "6d673fe6",
   "metadata": {},
   "outputs": [],
   "source": [
    "import numpy as np\n",
    "import pandas as pd\n",
    "\n",
    "from sklearn.linear_model import LinearRegression\n",
    "from sklearn.model_selection import train_test_split\n",
    "from sklearn.preprocessing import StandardScaler,MinMaxScaler"
   ]
  },
  {
   "cell_type": "code",
   "execution_count": 133,
   "id": "a48185ba",
   "metadata": {},
   "outputs": [],
   "source": [
    "df_clean_numerical = df_clean"
   ]
  },
  {
   "cell_type": "code",
   "execution_count": 134,
   "id": "bbc41d5c",
   "metadata": {},
   "outputs": [],
   "source": [
    "df_clean_numerical = df_clean_numerical.drop(labels=[\"longitude,latitude\",\"longitude\",\"latitude\",\"ocean_proximity\"],axis=1)"
   ]
  },
  {
   "cell_type": "code",
   "execution_count": 135,
   "id": "9d50e4c1",
   "metadata": {},
   "outputs": [],
   "source": [
    "df_clean_numerical_test = df_clean_numerical.copy()"
   ]
  },
  {
   "cell_type": "code",
   "execution_count": 136,
   "id": "5105dd17",
   "metadata": {},
   "outputs": [],
   "source": [
    "scaler = MinMaxScaler() "
   ]
  },
  {
   "cell_type": "code",
   "execution_count": 137,
   "id": "1c6bcac9",
   "metadata": {},
   "outputs": [],
   "source": [
    "df_clean_numerical[features_test] = scaler.fit_transform(df_clean_numerical[features_test])\n"
   ]
  },
  {
   "cell_type": "code",
   "execution_count": 138,
   "id": "4e756c02",
   "metadata": {},
   "outputs": [
    {
     "data": {
      "text/html": [
       "<div>\n",
       "<style scoped>\n",
       "    .dataframe tbody tr th:only-of-type {\n",
       "        vertical-align: middle;\n",
       "    }\n",
       "\n",
       "    .dataframe tbody tr th {\n",
       "        vertical-align: top;\n",
       "    }\n",
       "\n",
       "    .dataframe thead th {\n",
       "        text-align: right;\n",
       "    }\n",
       "</style>\n",
       "<table border=\"1\" class=\"dataframe\">\n",
       "  <thead>\n",
       "    <tr style=\"text-align: right;\">\n",
       "      <th></th>\n",
       "      <th>housing_median_age</th>\n",
       "      <th>total_rooms</th>\n",
       "      <th>total_bedrooms</th>\n",
       "      <th>population</th>\n",
       "      <th>households</th>\n",
       "      <th>median_income</th>\n",
       "      <th>median_house_value</th>\n",
       "      <th>num_ocean_proximity</th>\n",
       "    </tr>\n",
       "  </thead>\n",
       "  <tbody>\n",
       "    <tr>\n",
       "      <th>0</th>\n",
       "      <td>0.274510</td>\n",
       "      <td>0.142596</td>\n",
       "      <td>0.198820</td>\n",
       "      <td>0.028310</td>\n",
       "      <td>0.077303</td>\n",
       "      <td>0.068530</td>\n",
       "      <td>66900.0</td>\n",
       "      <td>1.0</td>\n",
       "    </tr>\n",
       "    <tr>\n",
       "      <th>1</th>\n",
       "      <td>0.313725</td>\n",
       "      <td>0.071298</td>\n",
       "      <td>0.098246</td>\n",
       "      <td>0.002186</td>\n",
       "      <td>0.007072</td>\n",
       "      <td>0.076930</td>\n",
       "      <td>87500.0</td>\n",
       "      <td>1.0</td>\n",
       "    </tr>\n",
       "    <tr>\n",
       "      <th>2</th>\n",
       "      <td>0.352941</td>\n",
       "      <td>0.065218</td>\n",
       "      <td>0.126959</td>\n",
       "      <td>0.039970</td>\n",
       "      <td>0.099671</td>\n",
       "      <td>0.053454</td>\n",
       "      <td>56100.0</td>\n",
       "      <td>1.0</td>\n",
       "    </tr>\n",
       "    <tr>\n",
       "      <th>3</th>\n",
       "      <td>0.313725</td>\n",
       "      <td>0.018161</td>\n",
       "      <td>0.026696</td>\n",
       "      <td>0.009194</td>\n",
       "      <td>0.018914</td>\n",
       "      <td>0.079378</td>\n",
       "      <td>85700.0</td>\n",
       "      <td>1.0</td>\n",
       "    </tr>\n",
       "    <tr>\n",
       "      <th>4</th>\n",
       "      <td>0.509804</td>\n",
       "      <td>0.004248</td>\n",
       "      <td>0.005122</td>\n",
       "      <td>0.003139</td>\n",
       "      <td>0.005263</td>\n",
       "      <td>0.109198</td>\n",
       "      <td>45000.0</td>\n",
       "      <td>1.0</td>\n",
       "    </tr>\n",
       "    <tr>\n",
       "      <th>...</th>\n",
       "      <td>...</td>\n",
       "      <td>...</td>\n",
       "      <td>...</td>\n",
       "      <td>...</td>\n",
       "      <td>...</td>\n",
       "      <td>...</td>\n",
       "      <td>...</td>\n",
       "      <td>...</td>\n",
       "    </tr>\n",
       "    <tr>\n",
       "      <th>10826</th>\n",
       "      <td>1.000000</td>\n",
       "      <td>0.028132</td>\n",
       "      <td>0.032128</td>\n",
       "      <td>0.015108</td>\n",
       "      <td>0.027961</td>\n",
       "      <td>0.196294</td>\n",
       "      <td>50800.0</td>\n",
       "      <td>2.0</td>\n",
       "    </tr>\n",
       "    <tr>\n",
       "      <th>10827</th>\n",
       "      <td>0.196078</td>\n",
       "      <td>0.080200</td>\n",
       "      <td>0.095297</td>\n",
       "      <td>0.037503</td>\n",
       "      <td>0.078454</td>\n",
       "      <td>0.136591</td>\n",
       "      <td>73200.0</td>\n",
       "      <td>2.0</td>\n",
       "    </tr>\n",
       "    <tr>\n",
       "      <th>10828</th>\n",
       "      <td>1.000000</td>\n",
       "      <td>0.056240</td>\n",
       "      <td>0.060841</td>\n",
       "      <td>0.025282</td>\n",
       "      <td>0.060362</td>\n",
       "      <td>0.128081</td>\n",
       "      <td>111400.0</td>\n",
       "      <td>2.0</td>\n",
       "    </tr>\n",
       "    <tr>\n",
       "      <th>10829</th>\n",
       "      <td>0.352941</td>\n",
       "      <td>0.067813</td>\n",
       "      <td>0.085364</td>\n",
       "      <td>0.036242</td>\n",
       "      <td>0.078289</td>\n",
       "      <td>0.102054</td>\n",
       "      <td>85800.0</td>\n",
       "      <td>2.0</td>\n",
       "    </tr>\n",
       "    <tr>\n",
       "      <th>10830</th>\n",
       "      <td>1.000000</td>\n",
       "      <td>0.046141</td>\n",
       "      <td>0.046252</td>\n",
       "      <td>0.022451</td>\n",
       "      <td>0.044079</td>\n",
       "      <td>0.173432</td>\n",
       "      <td>94600.0</td>\n",
       "      <td>2.0</td>\n",
       "    </tr>\n",
       "  </tbody>\n",
       "</table>\n",
       "<p>10831 rows × 8 columns</p>\n",
       "</div>"
      ],
      "text/plain": [
       "       housing_median_age  total_rooms  total_bedrooms  population  \\\n",
       "0                0.274510     0.142596        0.198820    0.028310   \n",
       "1                0.313725     0.071298        0.098246    0.002186   \n",
       "2                0.352941     0.065218        0.126959    0.039970   \n",
       "3                0.313725     0.018161        0.026696    0.009194   \n",
       "4                0.509804     0.004248        0.005122    0.003139   \n",
       "...                   ...          ...             ...         ...   \n",
       "10826            1.000000     0.028132        0.032128    0.015108   \n",
       "10827            0.196078     0.080200        0.095297    0.037503   \n",
       "10828            1.000000     0.056240        0.060841    0.025282   \n",
       "10829            0.352941     0.067813        0.085364    0.036242   \n",
       "10830            1.000000     0.046141        0.046252    0.022451   \n",
       "\n",
       "       households  median_income  median_house_value  num_ocean_proximity  \n",
       "0        0.077303       0.068530             66900.0                  1.0  \n",
       "1        0.007072       0.076930             87500.0                  1.0  \n",
       "2        0.099671       0.053454             56100.0                  1.0  \n",
       "3        0.018914       0.079378             85700.0                  1.0  \n",
       "4        0.005263       0.109198             45000.0                  1.0  \n",
       "...           ...            ...                 ...                  ...  \n",
       "10826    0.027961       0.196294             50800.0                  2.0  \n",
       "10827    0.078454       0.136591             73200.0                  2.0  \n",
       "10828    0.060362       0.128081            111400.0                  2.0  \n",
       "10829    0.078289       0.102054             85800.0                  2.0  \n",
       "10830    0.044079       0.173432             94600.0                  2.0  \n",
       "\n",
       "[10831 rows x 8 columns]"
      ]
     },
     "execution_count": 138,
     "metadata": {},
     "output_type": "execute_result"
    }
   ],
   "source": [
    "df_clean_numerical"
   ]
  },
  {
   "cell_type": "code",
   "execution_count": 139,
   "id": "3824564d",
   "metadata": {},
   "outputs": [],
   "source": [
    "df_clean = pd.read_csv ('dataframeclean.csv')"
   ]
  },
  {
   "cell_type": "markdown",
   "id": "49ec3642",
   "metadata": {},
   "source": [
    "# Baseline model "
   ]
  },
  {
   "cell_type": "code",
   "execution_count": 140,
   "id": "b0fc41f6",
   "metadata": {},
   "outputs": [],
   "source": [
    "\n",
    "features = [\n",
    " 'longitude',\n",
    " 'latitude',\n",
    " 'housing_median_age',\n",
    " 'total_rooms',\n",
    " 'total_bedrooms',\n",
    " 'population',\n",
    " 'households',\n",
    " 'median_income',\n",
    " 'num_ocean_proximity']"
   ]
  },
  {
   "cell_type": "code",
   "execution_count": 141,
   "id": "0c13e873",
   "metadata": {},
   "outputs": [
    {
     "data": {
      "text/plain": [
       "0.6939051619388996"
      ]
     },
     "execution_count": 141,
     "metadata": {},
     "output_type": "execute_result"
    }
   ],
   "source": [
    "# Choose your feature and your target\n",
    "X = df_clean[features]\n",
    "y = df_clean['median_house_value']\n",
    "\n",
    "# Splitting the data\n",
    "X_train, X_test, y_train, y_test = train_test_split(X, y, test_size=.3, random_state=3)\n",
    "\n",
    "# Choose your model\n",
    "model = LinearRegression()\n",
    "\n",
    "# Fit the model with the train set\n",
    "model.fit(X_train, y_train)\n",
    "\n",
    "# Evaluate the model with the test set\n",
    "baseline_score = model.score(X_test, y_test)\n",
    "baseline_score"
   ]
  },
  {
   "cell_type": "markdown",
   "id": "4f88cb29",
   "metadata": {},
   "source": [
    "# Itteration with min max standard "
   ]
  },
  {
   "cell_type": "code",
   "execution_count": 142,
   "id": "737dac47",
   "metadata": {},
   "outputs": [],
   "source": [
    "features_test = [\n",
    " 'housing_median_age',\n",
    " 'total_rooms',\n",
    " 'total_bedrooms',\n",
    " 'population',\n",
    " 'households',\n",
    " 'median_income']"
   ]
  },
  {
   "cell_type": "code",
   "execution_count": 144,
   "id": "e3214c9d",
   "metadata": {},
   "outputs": [
    {
     "data": {
      "text/plain": [
       "0.6307734885004139"
      ]
     },
     "execution_count": 144,
     "metadata": {},
     "output_type": "execute_result"
    }
   ],
   "source": [
    "#without standardisation\n",
    "# Choose your feature and your target\n",
    "X = df_clean_numerical_test[features_test]\n",
    "y = df_clean_numerical_test['median_house_value']\n",
    "\n",
    "# Splitting the data\n",
    "X_train, X_test, y_train, y_test = train_test_split(X, y, test_size=.3, random_state=3)\n",
    "\n",
    "# Choose your model\n",
    "model = LinearRegression()\n",
    "\n",
    "# Fit the model with the train set\n",
    "model.fit(X_train, y_train)\n",
    "\n",
    "# Evaluate the model with the test set\n",
    "baseline_score = model.score(X_test, y_test)\n",
    "baseline_score"
   ]
  },
  {
   "cell_type": "code",
   "execution_count": 143,
   "id": "3c72135e",
   "metadata": {},
   "outputs": [
    {
     "data": {
      "text/plain": [
       "0.6307734885004137"
      ]
     },
     "execution_count": 143,
     "metadata": {},
     "output_type": "execute_result"
    }
   ],
   "source": [
    "#without standardisation , it's not usefull for this features selection\n",
    "# Choose your feature and your target\n",
    "X = df_clean_numerical[features_test]\n",
    "y = df_clean_numerical['median_house_value']\n",
    "\n",
    "# Splitting the data\n",
    "X_train, X_test, y_train, y_test = train_test_split(X, y, test_size=.3, random_state=3)\n",
    "\n",
    "# Choose your model\n",
    "model = LinearRegression()\n",
    "\n",
    "# Fit the model with the train set\n",
    "model.fit(X_train, y_train)\n",
    "\n",
    "# Evaluate the model with the test set\n",
    "baseline_score = model.score(X_test, y_test)\n",
    "baseline_score"
   ]
  },
  {
   "cell_type": "markdown",
   "id": "3058d611",
   "metadata": {},
   "source": [
    "# feature engineering "
   ]
  },
  {
   "cell_type": "code",
   "execution_count": 145,
   "id": "0ac475e2",
   "metadata": {},
   "outputs": [
    {
     "data": {
      "text/plain": [
       "['housing_median_age',\n",
       " 'total_rooms',\n",
       " 'total_bedrooms',\n",
       " 'population',\n",
       " 'households',\n",
       " 'median_income']"
      ]
     },
     "execution_count": 145,
     "metadata": {},
     "output_type": "execute_result"
    }
   ],
   "source": [
    "features_test"
   ]
  },
  {
   "cell_type": "code",
   "execution_count": 146,
   "id": "f5bf2d47",
   "metadata": {},
   "outputs": [
    {
     "name": "stdout",
     "output_type": "stream",
     "text": [
      "longitude 0.6068434825008155\n",
      "latitude 0.5966179342471947\n",
      "housing_median_age 0.6562981957825306\n",
      "total_rooms 0.6676832545676616\n",
      "total_bedrooms 0.6656381086746957\n",
      "population 0.6484760619079627\n",
      "households 0.6655232534323121\n",
      "median_income 0.43618019406513886\n",
      "num_ocean_proximity 0.6668639007654589\n",
      "3\n",
      "longitude 0.5956787659714393\n",
      "latitude 0.5833290747261562\n",
      "housing_median_age 0.6427488738460234\n",
      "total_rooms 0.6529644321811042\n",
      "total_bedrooms 0.6537736851345255\n",
      "population 0.6292749228045689\n",
      "households 0.650517156439939\n",
      "median_income 0.4183198017952017\n",
      "num_ocean_proximity 0.6530694495852201\n",
      "4\n",
      "longitude 0.6457614038935102\n",
      "latitude 0.63486448582215\n",
      "housing_median_age 0.6887004962981914\n",
      "total_rooms 0.6984413447612486\n",
      "total_bedrooms 0.69705835951723\n",
      "population 0.6752546908338977\n",
      "households 0.6968576981636205\n",
      "median_income 0.4417181053996666\n",
      "num_ocean_proximity 0.6992428147022464\n",
      "1\n",
      "longitude 0.6419489161268681\n",
      "latitude 0.6305214638368273\n",
      "housing_median_age 0.6844660341778039\n",
      "total_rooms 0.6931562717083352\n",
      "total_bedrooms 0.6906061329231483\n",
      "population 0.6747797787866345\n",
      "households 0.693111436873778\n",
      "median_income 0.41325761711674014\n",
      "num_ocean_proximity 0.6939166824452406\n",
      "2\n",
      "longitude 0.6161687319813787\n",
      "latitude 0.6038467616736243\n",
      "housing_median_age 0.6613356558464818\n",
      "total_rooms 0.6738372370074073\n",
      "total_bedrooms 0.6720626883419394\n",
      "population 0.649171274614095\n",
      "households 0.6718225308389737\n",
      "median_income 0.43168429000201414\n",
      "num_ocean_proximity 0.6741200711348759\n",
      "3\n",
      "longitude 0.6436362959262523\n",
      "latitude 0.6361269150069727\n",
      "housing_median_age 0.6859807390182265\n",
      "total_rooms 0.696262183791924\n",
      "total_bedrooms 0.6949349754147756\n",
      "population 0.6732523411340603\n",
      "households 0.694509702843327\n",
      "median_income 0.41743882683406464\n",
      "num_ocean_proximity 0.6971606840883491\n",
      "1\n",
      "longitude 0.6104545708867902\n",
      "latitude 0.6020422439416235\n",
      "housing_median_age 0.6550078077342054\n",
      "total_rooms 0.6666668997854346\n",
      "total_bedrooms 0.6661540177319005\n",
      "population 0.658104477563864\n",
      "households 0.6660500109391845\n",
      "median_income 0.40301494518849923\n",
      "num_ocean_proximity 0.6672941296780122\n",
      "3\n",
      "longitude 0.6073891774742071\n",
      "latitude 0.6009974696691079\n",
      "housing_median_age 0.650054270967559\n",
      "total_rooms 0.6631515252964313\n",
      "total_bedrooms 0.6598520433608419\n",
      "population 0.6637206630001786\n",
      "households 0.6697338583197048\n",
      "median_income 0.3967208984710653\n",
      "num_ocean_proximity 0.6643353133076011\n",
      "3\n"
     ]
    }
   ],
   "source": [
    "features_descreasing_score = []\n",
    "for c in range (0,8) : \n",
    "    for i in features :\n",
    "        features_test = features.copy()\n",
    "        features_test.remove(i)\n",
    "        X = df_clean[features_test]\n",
    "        y = df_clean['median_house_value']\n",
    "    \n",
    "        # Splitting the data\n",
    "        X_train, X_test, y_train, y_test = train_test_split(X, y, test_size=.3, random_state=c)\n",
    "        \n",
    "        # Choose your model\n",
    "        model = LinearRegression()\n",
    "        \n",
    "        # Fit the model with the train set\n",
    "        model.fit(X_train, y_train)\n",
    "        \n",
    "        # Evaluate the model with the test set\n",
    "        score_test = model.score(X_test, y_test)\n",
    "        print(i , score_test)\n",
    "        if score_test < baseline_score :\n",
    "            features_descreasing_score.append(i)\n",
    "    features_descreasing_score\n",
    "    print(len(features_descreasing_score))\n",
    "    features_descreasing_score = []\n",
    "        \n"
   ]
  },
  {
   "cell_type": "code",
   "execution_count": null,
   "id": "4a30129c",
   "metadata": {},
   "outputs": [],
   "source": []
  },
  {
   "cell_type": "code",
   "execution_count": null,
   "id": "cf9a46f1",
   "metadata": {},
   "outputs": [],
   "source": []
  }
 ],
 "metadata": {
  "kernelspec": {
   "display_name": "Python 3 (ipykernel)",
   "language": "python",
   "name": "python3"
  },
  "language_info": {
   "codemirror_mode": {
    "name": "ipython",
    "version": 3
   },
   "file_extension": ".py",
   "mimetype": "text/x-python",
   "name": "python",
   "nbconvert_exporter": "python",
   "pygments_lexer": "ipython3",
   "version": "3.8.12"
  },
  "toc": {
   "base_numbering": 1,
   "nav_menu": {},
   "number_sections": true,
   "sideBar": true,
   "skip_h1_title": false,
   "title_cell": "Table of Contents",
   "title_sidebar": "Contents",
   "toc_cell": false,
   "toc_position": {},
   "toc_section_display": true,
   "toc_window_display": false
  }
 },
 "nbformat": 4,
 "nbformat_minor": 5
}
